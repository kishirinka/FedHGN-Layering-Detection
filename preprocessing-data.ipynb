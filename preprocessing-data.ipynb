{
 "cells": [
  {
   "cell_type": "code",
   "execution_count": 1,
   "id": "2ed44aba",
   "metadata": {
    "_cell_guid": "b1076dfc-b9ad-4769-8c92-a6c4dae69d19",
    "_uuid": "8f2839f25d086af736a60e9eeb907d3b93b6e0e5",
    "execution": {
     "iopub.execute_input": "2025-07-13T19:19:52.029046Z",
     "iopub.status.busy": "2025-07-13T19:19:52.028657Z",
     "iopub.status.idle": "2025-07-13T19:19:54.352970Z",
     "shell.execute_reply": "2025-07-13T19:19:54.351747Z"
    },
    "papermill": {
     "duration": 2.33135,
     "end_time": "2025-07-13T19:19:54.354384",
     "exception": false,
     "start_time": "2025-07-13T19:19:52.023034",
     "status": "completed"
    },
    "tags": []
   },
   "outputs": [
    {
     "name": "stdout",
     "output_type": "stream",
     "text": [
      "/kaggle/input/ibm-transactions-for-anti-money-laundering-aml/HI-Medium_accounts.csv\n",
      "/kaggle/input/ibm-transactions-for-anti-money-laundering-aml/LI-Small_Trans.csv\n",
      "/kaggle/input/ibm-transactions-for-anti-money-laundering-aml/HI-Large_accounts.csv\n",
      "/kaggle/input/ibm-transactions-for-anti-money-laundering-aml/HI-Large_Trans.csv\n",
      "/kaggle/input/ibm-transactions-for-anti-money-laundering-aml/HI-Medium_Trans.csv\n",
      "/kaggle/input/ibm-transactions-for-anti-money-laundering-aml/LI-Medium_accounts.csv\n",
      "/kaggle/input/ibm-transactions-for-anti-money-laundering-aml/HI-Small_Patterns.txt\n",
      "/kaggle/input/ibm-transactions-for-anti-money-laundering-aml/HI-Medium_Patterns.txt\n",
      "/kaggle/input/ibm-transactions-for-anti-money-laundering-aml/HI-Small_accounts.csv\n",
      "/kaggle/input/ibm-transactions-for-anti-money-laundering-aml/LI-Medium_Trans.csv\n",
      "/kaggle/input/ibm-transactions-for-anti-money-laundering-aml/HI-Large_Patterns.txt\n",
      "/kaggle/input/ibm-transactions-for-anti-money-laundering-aml/LI-Medium_Patterns.txt\n",
      "/kaggle/input/ibm-transactions-for-anti-money-laundering-aml/LI-Large_accounts.csv\n",
      "/kaggle/input/ibm-transactions-for-anti-money-laundering-aml/LI-Small_accounts.csv\n",
      "/kaggle/input/ibm-transactions-for-anti-money-laundering-aml/LI-Large_Patterns.txt\n",
      "/kaggle/input/ibm-transactions-for-anti-money-laundering-aml/LI-Large_Trans.csv\n",
      "/kaggle/input/ibm-transactions-for-anti-money-laundering-aml/LI-Small_Patterns.txt\n",
      "/kaggle/input/ibm-transactions-for-anti-money-laundering-aml/HI-Small_Trans.csv\n"
     ]
    }
   ],
   "source": [
    "# This Python 3 environment comes with many helpful analytics libraries installed\n",
    "# It is defined by the kaggle/python Docker image: https://github.com/kaggle/docker-python\n",
    "# For example, here's several helpful packages to load\n",
    "\n",
    "import numpy as np # linear algebra\n",
    "import pandas as pd # data processing, CSV file I/O (e.g. pd.read_csv)\n",
    "\n",
    "# Input data files are available in the read-only \"../input/\" directory\n",
    "# For example, running this (by clicking run or pressing Shift+Enter) will list all files under the input directory\n",
    "\n",
    "import os\n",
    "for dirname, _, filenames in os.walk('/kaggle/input'):\n",
    "    for filename in filenames:\n",
    "        print(os.path.join(dirname, filename))\n",
    "\n",
    "# You can write up to 20GB to the current directory (/kaggle/working/) that gets preserved as output when you create a version using \"Save & Run All\" \n",
    "# You can also write temporary files to /kaggle/temp/, but they won't be saved outside of the current session"
   ]
  },
  {
   "cell_type": "code",
   "execution_count": 2,
   "id": "7291a523",
   "metadata": {
    "execution": {
     "iopub.execute_input": "2025-07-13T19:19:54.363016Z",
     "iopub.status.busy": "2025-07-13T19:19:54.362565Z",
     "iopub.status.idle": "2025-07-13T19:19:54.366696Z",
     "shell.execute_reply": "2025-07-13T19:19:54.365854Z"
    },
    "papermill": {
     "duration": 0.009809,
     "end_time": "2025-07-13T19:19:54.368150",
     "exception": false,
     "start_time": "2025-07-13T19:19:54.358341",
     "status": "completed"
    },
    "tags": []
   },
   "outputs": [],
   "source": [
    "# !pip install dgl"
   ]
  },
  {
   "cell_type": "code",
   "execution_count": 3,
   "id": "8ddff9cc",
   "metadata": {
    "execution": {
     "iopub.execute_input": "2025-07-13T19:19:54.376356Z",
     "iopub.status.busy": "2025-07-13T19:19:54.376044Z",
     "iopub.status.idle": "2025-07-13T19:20:01.871366Z",
     "shell.execute_reply": "2025-07-13T19:20:01.870379Z"
    },
    "papermill": {
     "duration": 7.501336,
     "end_time": "2025-07-13T19:20:01.873110",
     "exception": false,
     "start_time": "2025-07-13T19:19:54.371774",
     "status": "completed"
    },
    "tags": []
   },
   "outputs": [
    {
     "name": "stdout",
     "output_type": "stream",
     "text": [
      "Collecting dgl==1.1.2\r\n",
      "  Downloading dgl-1.1.2-cp311-cp311-manylinux1_x86_64.whl.metadata (530 bytes)\r\n",
      "Requirement already satisfied: numpy>=1.14.0 in /usr/local/lib/python3.11/dist-packages (from dgl==1.1.2) (1.26.4)\r\n",
      "Requirement already satisfied: scipy>=1.1.0 in /usr/local/lib/python3.11/dist-packages (from dgl==1.1.2) (1.15.3)\r\n",
      "Requirement already satisfied: networkx>=2.1 in /usr/local/lib/python3.11/dist-packages (from dgl==1.1.2) (3.5)\r\n",
      "Requirement already satisfied: requests>=2.19.0 in /usr/local/lib/python3.11/dist-packages (from dgl==1.1.2) (2.32.4)\r\n",
      "Requirement already satisfied: tqdm in /usr/local/lib/python3.11/dist-packages (from dgl==1.1.2) (4.67.1)\r\n",
      "Requirement already satisfied: psutil>=5.8.0 in /usr/local/lib/python3.11/dist-packages (from dgl==1.1.2) (7.0.0)\r\n",
      "Requirement already satisfied: mkl_fft in /usr/local/lib/python3.11/dist-packages (from numpy>=1.14.0->dgl==1.1.2) (1.3.8)\r\n",
      "Requirement already satisfied: mkl_random in /usr/local/lib/python3.11/dist-packages (from numpy>=1.14.0->dgl==1.1.2) (1.2.4)\r\n",
      "Requirement already satisfied: mkl_umath in /usr/local/lib/python3.11/dist-packages (from numpy>=1.14.0->dgl==1.1.2) (0.1.1)\r\n",
      "Requirement already satisfied: mkl in /usr/local/lib/python3.11/dist-packages (from numpy>=1.14.0->dgl==1.1.2) (2025.2.0)\r\n",
      "Requirement already satisfied: tbb4py in /usr/local/lib/python3.11/dist-packages (from numpy>=1.14.0->dgl==1.1.2) (2022.2.0)\r\n",
      "Requirement already satisfied: mkl-service in /usr/local/lib/python3.11/dist-packages (from numpy>=1.14.0->dgl==1.1.2) (2.4.1)\r\n",
      "Requirement already satisfied: charset_normalizer<4,>=2 in /usr/local/lib/python3.11/dist-packages (from requests>=2.19.0->dgl==1.1.2) (3.4.2)\r\n",
      "Requirement already satisfied: idna<4,>=2.5 in /usr/local/lib/python3.11/dist-packages (from requests>=2.19.0->dgl==1.1.2) (3.10)\r\n",
      "Requirement already satisfied: urllib3<3,>=1.21.1 in /usr/local/lib/python3.11/dist-packages (from requests>=2.19.0->dgl==1.1.2) (2.5.0)\r\n",
      "Requirement already satisfied: certifi>=2017.4.17 in /usr/local/lib/python3.11/dist-packages (from requests>=2.19.0->dgl==1.1.2) (2025.6.15)\r\n",
      "Requirement already satisfied: intel-openmp<2026,>=2024 in /usr/local/lib/python3.11/dist-packages (from mkl->numpy>=1.14.0->dgl==1.1.2) (2024.2.0)\r\n",
      "Requirement already satisfied: tbb==2022.* in /usr/local/lib/python3.11/dist-packages (from mkl->numpy>=1.14.0->dgl==1.1.2) (2022.2.0)\r\n",
      "Requirement already satisfied: tcmlib==1.* in /usr/local/lib/python3.11/dist-packages (from tbb==2022.*->mkl->numpy>=1.14.0->dgl==1.1.2) (1.4.0)\r\n",
      "Requirement already satisfied: intel-cmplr-lib-rt in /usr/local/lib/python3.11/dist-packages (from mkl_umath->numpy>=1.14.0->dgl==1.1.2) (2024.2.0)\r\n",
      "Requirement already satisfied: intel-cmplr-lib-ur==2024.2.0 in /usr/local/lib/python3.11/dist-packages (from intel-openmp<2026,>=2024->mkl->numpy>=1.14.0->dgl==1.1.2) (2024.2.0)\r\n",
      "Downloading dgl-1.1.2-cp311-cp311-manylinux1_x86_64.whl (6.0 MB)\r\n",
      "\u001b[2K   \u001b[90m━━━━━━━━━━━━━━━━━━━━━━━━━━━━━━━━━━━━━━━━\u001b[0m \u001b[32m6.0/6.0 MB\u001b[0m \u001b[31m65.0 MB/s\u001b[0m eta \u001b[36m0:00:00\u001b[0m\r\n",
      "\u001b[?25hInstalling collected packages: dgl\r\n",
      "Successfully installed dgl-1.1.2\r\n"
     ]
    }
   ],
   "source": [
    "!pip install --no-cache-dir dgl==1.1.2"
   ]
  },
  {
   "cell_type": "code",
   "execution_count": 4,
   "id": "7805dc27",
   "metadata": {
    "execution": {
     "iopub.execute_input": "2025-07-13T19:20:01.882438Z",
     "iopub.status.busy": "2025-07-13T19:20:01.882109Z",
     "iopub.status.idle": "2025-07-13T19:20:11.081914Z",
     "shell.execute_reply": "2025-07-13T19:20:11.080885Z"
    },
    "papermill": {
     "duration": 9.206586,
     "end_time": "2025-07-13T19:20:11.083781",
     "exception": false,
     "start_time": "2025-07-13T19:20:01.877195",
     "status": "completed"
    },
    "tags": []
   },
   "outputs": [
    {
     "name": "stdout",
     "output_type": "stream",
     "text": [
      "Setting the default backend to \"pytorch\". You can change it in the ~/.dgl/config.json file or export the DGLBACKEND environment variable.  Valid options are: pytorch, mxnet, tensorflow (all lowercase)\n"
     ]
    },
    {
     "name": "stderr",
     "output_type": "stream",
     "text": [
      "DGL backend not selected or invalid.  Assuming PyTorch for now.\n"
     ]
    }
   ],
   "source": [
    "import dgl\n",
    "import torch\n",
    "from collections import defaultdict\n",
    "import pandas as pd"
   ]
  },
  {
   "cell_type": "code",
   "execution_count": 5,
   "id": "38a48dc7",
   "metadata": {
    "execution": {
     "iopub.execute_input": "2025-07-13T19:20:11.093221Z",
     "iopub.status.busy": "2025-07-13T19:20:11.092596Z",
     "iopub.status.idle": "2025-07-13T19:20:12.830952Z",
     "shell.execute_reply": "2025-07-13T19:20:12.830084Z"
    },
    "papermill": {
     "duration": 1.744945,
     "end_time": "2025-07-13T19:20:12.832947",
     "exception": false,
     "start_time": "2025-07-13T19:20:11.088002",
     "status": "completed"
    },
    "tags": []
   },
   "outputs": [
    {
     "data": {
      "text/html": [
       "<div>\n",
       "<style scoped>\n",
       "    .dataframe tbody tr th:only-of-type {\n",
       "        vertical-align: middle;\n",
       "    }\n",
       "\n",
       "    .dataframe tbody tr th {\n",
       "        vertical-align: top;\n",
       "    }\n",
       "\n",
       "    .dataframe thead th {\n",
       "        text-align: right;\n",
       "    }\n",
       "</style>\n",
       "<table border=\"1\" class=\"dataframe\">\n",
       "  <thead>\n",
       "    <tr style=\"text-align: right;\">\n",
       "      <th></th>\n",
       "      <th>Bank Name</th>\n",
       "      <th>Bank ID</th>\n",
       "      <th>Account Number</th>\n",
       "      <th>Entity ID</th>\n",
       "      <th>Entity Name</th>\n",
       "    </tr>\n",
       "  </thead>\n",
       "  <tbody>\n",
       "    <tr>\n",
       "      <th>0</th>\n",
       "      <td>Portugal Bank #4507</td>\n",
       "      <td>331579</td>\n",
       "      <td>80B779D80</td>\n",
       "      <td>80062E240</td>\n",
       "      <td>Sole Proprietorship #50438</td>\n",
       "    </tr>\n",
       "    <tr>\n",
       "      <th>1</th>\n",
       "      <td>Canada Bank #27</td>\n",
       "      <td>210</td>\n",
       "      <td>809D86900</td>\n",
       "      <td>800C998A0</td>\n",
       "      <td>Corporation #33520</td>\n",
       "    </tr>\n",
       "    <tr>\n",
       "      <th>2</th>\n",
       "      <td>UK Bank #33</td>\n",
       "      <td>21884</td>\n",
       "      <td>80812BE00</td>\n",
       "      <td>800C47F50</td>\n",
       "      <td>Partnership #35397</td>\n",
       "    </tr>\n",
       "    <tr>\n",
       "      <th>3</th>\n",
       "      <td>Germany Bank #4815</td>\n",
       "      <td>32742</td>\n",
       "      <td>81047F300</td>\n",
       "      <td>80096F0B0</td>\n",
       "      <td>Corporation #48813</td>\n",
       "    </tr>\n",
       "    <tr>\n",
       "      <th>4</th>\n",
       "      <td>National Bank of Harrisburg</td>\n",
       "      <td>127390</td>\n",
       "      <td>80BD8CF00</td>\n",
       "      <td>800FB8760</td>\n",
       "      <td>Corporation #889</td>\n",
       "    </tr>\n",
       "    <tr>\n",
       "      <th>5</th>\n",
       "      <td>Spain Bank #439</td>\n",
       "      <td>224555</td>\n",
       "      <td>80F269580</td>\n",
       "      <td>80064EB20</td>\n",
       "      <td>Sole Proprietorship #42987</td>\n",
       "    </tr>\n",
       "    <tr>\n",
       "      <th>6</th>\n",
       "      <td>Savings Bank of Omaha</td>\n",
       "      <td>32013</td>\n",
       "      <td>80E6E8680</td>\n",
       "      <td>800CCEDE0</td>\n",
       "      <td>Sole Proprietorship #20855</td>\n",
       "    </tr>\n",
       "    <tr>\n",
       "      <th>7</th>\n",
       "      <td>Brazil Bank #39</td>\n",
       "      <td>335355</td>\n",
       "      <td>80CDEFD80</td>\n",
       "      <td>800D88F10</td>\n",
       "      <td>Partnership #36822</td>\n",
       "    </tr>\n",
       "    <tr>\n",
       "      <th>8</th>\n",
       "      <td>Mexico Bank #16</td>\n",
       "      <td>1132</td>\n",
       "      <td>80B723600</td>\n",
       "      <td>800D3F760</td>\n",
       "      <td>Partnership #36511</td>\n",
       "    </tr>\n",
       "    <tr>\n",
       "      <th>9</th>\n",
       "      <td>Russia Bank #39</td>\n",
       "      <td>217824</td>\n",
       "      <td>806B17000</td>\n",
       "      <td>800B44480</td>\n",
       "      <td>Partnership #33830</td>\n",
       "    </tr>\n",
       "    <tr>\n",
       "      <th>10</th>\n",
       "      <td>Acme Community Bank</td>\n",
       "      <td>3051</td>\n",
       "      <td>801B5F580</td>\n",
       "      <td>800CE6560</td>\n",
       "      <td>Partnership #4394</td>\n",
       "    </tr>\n",
       "    <tr>\n",
       "      <th>11</th>\n",
       "      <td>Croatia Bank #36</td>\n",
       "      <td>24840</td>\n",
       "      <td>803D08400</td>\n",
       "      <td>800786C50</td>\n",
       "      <td>Sole Proprietorship #24627</td>\n",
       "    </tr>\n",
       "    <tr>\n",
       "      <th>12</th>\n",
       "      <td>National Bank of Cleveland</td>\n",
       "      <td>122086</td>\n",
       "      <td>80D9E7300</td>\n",
       "      <td>8004D60F0</td>\n",
       "      <td>Sole Proprietorship #17045</td>\n",
       "    </tr>\n",
       "    <tr>\n",
       "      <th>13</th>\n",
       "      <td>Bank of New York</td>\n",
       "      <td>1853</td>\n",
       "      <td>808939E80</td>\n",
       "      <td>8001B6C60</td>\n",
       "      <td>Partnership #51470</td>\n",
       "    </tr>\n",
       "    <tr>\n",
       "      <th>14</th>\n",
       "      <td>Willows Community Bank</td>\n",
       "      <td>11471</td>\n",
       "      <td>801F66780</td>\n",
       "      <td>8001727E0</td>\n",
       "      <td>Sole Proprietorship #4568</td>\n",
       "    </tr>\n",
       "    <tr>\n",
       "      <th>15</th>\n",
       "      <td>Japan Bank #930</td>\n",
       "      <td>311355</td>\n",
       "      <td>804301D90</td>\n",
       "      <td>800A9E740</td>\n",
       "      <td>Partnership #32508</td>\n",
       "    </tr>\n",
       "    <tr>\n",
       "      <th>16</th>\n",
       "      <td>Italy Bank #364</td>\n",
       "      <td>28629</td>\n",
       "      <td>80BCFEA90</td>\n",
       "      <td>800720A50</td>\n",
       "      <td>Corporation #40316</td>\n",
       "    </tr>\n",
       "    <tr>\n",
       "      <th>17</th>\n",
       "      <td>Acme Cooperative Bank</td>\n",
       "      <td>1601</td>\n",
       "      <td>800332090</td>\n",
       "      <td>800F0B030</td>\n",
       "      <td>Partnership #15275</td>\n",
       "    </tr>\n",
       "    <tr>\n",
       "      <th>18</th>\n",
       "      <td>National Bank of Harrisburg</td>\n",
       "      <td>25075</td>\n",
       "      <td>80528F990</td>\n",
       "      <td>800FBB640</td>\n",
       "      <td>Partnership #10650</td>\n",
       "    </tr>\n",
       "    <tr>\n",
       "      <th>19</th>\n",
       "      <td>Israel Bank #349</td>\n",
       "      <td>345250</td>\n",
       "      <td>810AA5110</td>\n",
       "      <td>800E84E60</td>\n",
       "      <td>Corporation #35871</td>\n",
       "    </tr>\n",
       "  </tbody>\n",
       "</table>\n",
       "</div>"
      ],
      "text/plain": [
       "                      Bank Name  Bank ID Account Number  Entity ID  \\\n",
       "0           Portugal Bank #4507   331579      80B779D80  80062E240   \n",
       "1               Canada Bank #27      210      809D86900  800C998A0   \n",
       "2                   UK Bank #33    21884      80812BE00  800C47F50   \n",
       "3            Germany Bank #4815    32742      81047F300  80096F0B0   \n",
       "4   National Bank of Harrisburg   127390      80BD8CF00  800FB8760   \n",
       "5               Spain Bank #439   224555      80F269580  80064EB20   \n",
       "6         Savings Bank of Omaha    32013      80E6E8680  800CCEDE0   \n",
       "7               Brazil Bank #39   335355      80CDEFD80  800D88F10   \n",
       "8               Mexico Bank #16     1132      80B723600  800D3F760   \n",
       "9               Russia Bank #39   217824      806B17000  800B44480   \n",
       "10          Acme Community Bank     3051      801B5F580  800CE6560   \n",
       "11             Croatia Bank #36    24840      803D08400  800786C50   \n",
       "12   National Bank of Cleveland   122086      80D9E7300  8004D60F0   \n",
       "13             Bank of New York     1853      808939E80  8001B6C60   \n",
       "14       Willows Community Bank    11471      801F66780  8001727E0   \n",
       "15              Japan Bank #930   311355      804301D90  800A9E740   \n",
       "16              Italy Bank #364    28629      80BCFEA90  800720A50   \n",
       "17        Acme Cooperative Bank     1601      800332090  800F0B030   \n",
       "18  National Bank of Harrisburg    25075      80528F990  800FBB640   \n",
       "19             Israel Bank #349   345250      810AA5110  800E84E60   \n",
       "\n",
       "                   Entity Name  \n",
       "0   Sole Proprietorship #50438  \n",
       "1           Corporation #33520  \n",
       "2           Partnership #35397  \n",
       "3           Corporation #48813  \n",
       "4             Corporation #889  \n",
       "5   Sole Proprietorship #42987  \n",
       "6   Sole Proprietorship #20855  \n",
       "7           Partnership #36822  \n",
       "8           Partnership #36511  \n",
       "9           Partnership #33830  \n",
       "10           Partnership #4394  \n",
       "11  Sole Proprietorship #24627  \n",
       "12  Sole Proprietorship #17045  \n",
       "13          Partnership #51470  \n",
       "14   Sole Proprietorship #4568  \n",
       "15          Partnership #32508  \n",
       "16          Corporation #40316  \n",
       "17          Partnership #15275  \n",
       "18          Partnership #10650  \n",
       "19          Corporation #35871  "
      ]
     },
     "execution_count": 5,
     "metadata": {},
     "output_type": "execute_result"
    }
   ],
   "source": [
    "df_account = pd.read_csv(\"/kaggle/input/ibm-transactions-for-anti-money-laundering-aml/HI-Small_accounts.csv\")\n",
    "df_account.head(20)"
   ]
  },
  {
   "cell_type": "code",
   "execution_count": 6,
   "id": "54a9c1a4",
   "metadata": {
    "execution": {
     "iopub.execute_input": "2025-07-13T19:20:12.848106Z",
     "iopub.status.busy": "2025-07-13T19:20:12.847189Z",
     "iopub.status.idle": "2025-07-13T19:20:28.761691Z",
     "shell.execute_reply": "2025-07-13T19:20:28.760866Z"
    },
    "papermill": {
     "duration": 15.922254,
     "end_time": "2025-07-13T19:20:28.763268",
     "exception": false,
     "start_time": "2025-07-13T19:20:12.841014",
     "status": "completed"
    },
    "tags": []
   },
   "outputs": [
    {
     "data": {
      "text/html": [
       "<div>\n",
       "<style scoped>\n",
       "    .dataframe tbody tr th:only-of-type {\n",
       "        vertical-align: middle;\n",
       "    }\n",
       "\n",
       "    .dataframe tbody tr th {\n",
       "        vertical-align: top;\n",
       "    }\n",
       "\n",
       "    .dataframe thead th {\n",
       "        text-align: right;\n",
       "    }\n",
       "</style>\n",
       "<table border=\"1\" class=\"dataframe\">\n",
       "  <thead>\n",
       "    <tr style=\"text-align: right;\">\n",
       "      <th></th>\n",
       "      <th>Timestamp</th>\n",
       "      <th>From Bank</th>\n",
       "      <th>Account</th>\n",
       "      <th>To Bank</th>\n",
       "      <th>Account.1</th>\n",
       "      <th>Amount Received</th>\n",
       "      <th>Receiving Currency</th>\n",
       "      <th>Amount Paid</th>\n",
       "      <th>Payment Currency</th>\n",
       "      <th>Payment Format</th>\n",
       "      <th>Is Laundering</th>\n",
       "    </tr>\n",
       "  </thead>\n",
       "  <tbody>\n",
       "    <tr>\n",
       "      <th>0</th>\n",
       "      <td>2022/09/01 00:20</td>\n",
       "      <td>10</td>\n",
       "      <td>8000EBD30</td>\n",
       "      <td>10</td>\n",
       "      <td>8000EBD30</td>\n",
       "      <td>3697.34</td>\n",
       "      <td>US Dollar</td>\n",
       "      <td>3697.34</td>\n",
       "      <td>US Dollar</td>\n",
       "      <td>Reinvestment</td>\n",
       "      <td>0</td>\n",
       "    </tr>\n",
       "    <tr>\n",
       "      <th>1</th>\n",
       "      <td>2022/09/01 00:20</td>\n",
       "      <td>3208</td>\n",
       "      <td>8000F4580</td>\n",
       "      <td>1</td>\n",
       "      <td>8000F5340</td>\n",
       "      <td>0.01</td>\n",
       "      <td>US Dollar</td>\n",
       "      <td>0.01</td>\n",
       "      <td>US Dollar</td>\n",
       "      <td>Cheque</td>\n",
       "      <td>0</td>\n",
       "    </tr>\n",
       "    <tr>\n",
       "      <th>2</th>\n",
       "      <td>2022/09/01 00:00</td>\n",
       "      <td>3209</td>\n",
       "      <td>8000F4670</td>\n",
       "      <td>3209</td>\n",
       "      <td>8000F4670</td>\n",
       "      <td>14675.57</td>\n",
       "      <td>US Dollar</td>\n",
       "      <td>14675.57</td>\n",
       "      <td>US Dollar</td>\n",
       "      <td>Reinvestment</td>\n",
       "      <td>0</td>\n",
       "    </tr>\n",
       "    <tr>\n",
       "      <th>3</th>\n",
       "      <td>2022/09/01 00:02</td>\n",
       "      <td>12</td>\n",
       "      <td>8000F5030</td>\n",
       "      <td>12</td>\n",
       "      <td>8000F5030</td>\n",
       "      <td>2806.97</td>\n",
       "      <td>US Dollar</td>\n",
       "      <td>2806.97</td>\n",
       "      <td>US Dollar</td>\n",
       "      <td>Reinvestment</td>\n",
       "      <td>0</td>\n",
       "    </tr>\n",
       "    <tr>\n",
       "      <th>4</th>\n",
       "      <td>2022/09/01 00:06</td>\n",
       "      <td>10</td>\n",
       "      <td>8000F5200</td>\n",
       "      <td>10</td>\n",
       "      <td>8000F5200</td>\n",
       "      <td>36682.97</td>\n",
       "      <td>US Dollar</td>\n",
       "      <td>36682.97</td>\n",
       "      <td>US Dollar</td>\n",
       "      <td>Reinvestment</td>\n",
       "      <td>0</td>\n",
       "    </tr>\n",
       "  </tbody>\n",
       "</table>\n",
       "</div>"
      ],
      "text/plain": [
       "          Timestamp  From Bank    Account  To Bank  Account.1  \\\n",
       "0  2022/09/01 00:20         10  8000EBD30       10  8000EBD30   \n",
       "1  2022/09/01 00:20       3208  8000F4580        1  8000F5340   \n",
       "2  2022/09/01 00:00       3209  8000F4670     3209  8000F4670   \n",
       "3  2022/09/01 00:02         12  8000F5030       12  8000F5030   \n",
       "4  2022/09/01 00:06         10  8000F5200       10  8000F5200   \n",
       "\n",
       "   Amount Received Receiving Currency  Amount Paid Payment Currency  \\\n",
       "0          3697.34          US Dollar      3697.34        US Dollar   \n",
       "1             0.01          US Dollar         0.01        US Dollar   \n",
       "2         14675.57          US Dollar     14675.57        US Dollar   \n",
       "3          2806.97          US Dollar      2806.97        US Dollar   \n",
       "4         36682.97          US Dollar     36682.97        US Dollar   \n",
       "\n",
       "  Payment Format  Is Laundering  \n",
       "0   Reinvestment              0  \n",
       "1         Cheque              0  \n",
       "2   Reinvestment              0  \n",
       "3   Reinvestment              0  \n",
       "4   Reinvestment              0  "
      ]
     },
     "execution_count": 6,
     "metadata": {},
     "output_type": "execute_result"
    }
   ],
   "source": [
    "df_trans = pd.read_csv(\"/kaggle/input/ibm-transactions-for-anti-money-laundering-aml/HI-Small_Trans.csv\")\n",
    "df_trans.head()"
   ]
  },
  {
   "cell_type": "code",
   "execution_count": 7,
   "id": "3ed3fd88",
   "metadata": {
    "execution": {
     "iopub.execute_input": "2025-07-13T19:20:28.773302Z",
     "iopub.status.busy": "2025-07-13T19:20:28.773013Z",
     "iopub.status.idle": "2025-07-13T19:20:34.607004Z",
     "shell.execute_reply": "2025-07-13T19:20:34.606217Z"
    },
    "papermill": {
     "duration": 5.84067,
     "end_time": "2025-07-13T19:20:34.608638",
     "exception": false,
     "start_time": "2025-07-13T19:20:28.767968",
     "status": "completed"
    },
    "tags": []
   },
   "outputs": [],
   "source": [
    "df_joined = pd.merge(\n",
    "    df_trans,\n",
    "    df_account,\n",
    "    how='left',\n",
    "    left_on='Account',\n",
    "    right_on='Account Number'\n",
    ")\n",
    "df_joined.drop(columns=['Account Number'], inplace=True)"
   ]
  },
  {
   "cell_type": "code",
   "execution_count": 8,
   "id": "393b9c07",
   "metadata": {
    "execution": {
     "iopub.execute_input": "2025-07-13T19:20:34.620022Z",
     "iopub.status.busy": "2025-07-13T19:20:34.619064Z",
     "iopub.status.idle": "2025-07-13T19:20:34.634021Z",
     "shell.execute_reply": "2025-07-13T19:20:34.633172Z"
    },
    "papermill": {
     "duration": 0.021961,
     "end_time": "2025-07-13T19:20:34.635351",
     "exception": false,
     "start_time": "2025-07-13T19:20:34.613390",
     "status": "completed"
    },
    "tags": []
   },
   "outputs": [
    {
     "data": {
      "text/html": [
       "<div>\n",
       "<style scoped>\n",
       "    .dataframe tbody tr th:only-of-type {\n",
       "        vertical-align: middle;\n",
       "    }\n",
       "\n",
       "    .dataframe tbody tr th {\n",
       "        vertical-align: top;\n",
       "    }\n",
       "\n",
       "    .dataframe thead th {\n",
       "        text-align: right;\n",
       "    }\n",
       "</style>\n",
       "<table border=\"1\" class=\"dataframe\">\n",
       "  <thead>\n",
       "    <tr style=\"text-align: right;\">\n",
       "      <th></th>\n",
       "      <th>Timestamp</th>\n",
       "      <th>From Bank</th>\n",
       "      <th>Account</th>\n",
       "      <th>To Bank</th>\n",
       "      <th>Account.1</th>\n",
       "      <th>Amount Received</th>\n",
       "      <th>Receiving Currency</th>\n",
       "      <th>Amount Paid</th>\n",
       "      <th>Payment Currency</th>\n",
       "      <th>Payment Format</th>\n",
       "      <th>Is Laundering</th>\n",
       "      <th>Bank Name</th>\n",
       "      <th>Bank ID</th>\n",
       "      <th>Entity ID</th>\n",
       "      <th>Entity Name</th>\n",
       "    </tr>\n",
       "  </thead>\n",
       "  <tbody>\n",
       "    <tr>\n",
       "      <th>0</th>\n",
       "      <td>2022/09/01 00:20</td>\n",
       "      <td>10</td>\n",
       "      <td>8000EBD30</td>\n",
       "      <td>10</td>\n",
       "      <td>8000EBD30</td>\n",
       "      <td>3697.34</td>\n",
       "      <td>US Dollar</td>\n",
       "      <td>3697.34</td>\n",
       "      <td>US Dollar</td>\n",
       "      <td>Reinvestment</td>\n",
       "      <td>0</td>\n",
       "      <td>National Bank of Laramie</td>\n",
       "      <td>10</td>\n",
       "      <td>800D232D0</td>\n",
       "      <td>Partnership #1</td>\n",
       "    </tr>\n",
       "    <tr>\n",
       "      <th>1</th>\n",
       "      <td>2022/09/01 00:20</td>\n",
       "      <td>3208</td>\n",
       "      <td>8000F4580</td>\n",
       "      <td>1</td>\n",
       "      <td>8000F5340</td>\n",
       "      <td>0.01</td>\n",
       "      <td>US Dollar</td>\n",
       "      <td>0.01</td>\n",
       "      <td>US Dollar</td>\n",
       "      <td>Cheque</td>\n",
       "      <td>0</td>\n",
       "      <td>Sappo Cooperative Bank</td>\n",
       "      <td>3208</td>\n",
       "      <td>8008EEA70</td>\n",
       "      <td>Partnership #2</td>\n",
       "    </tr>\n",
       "    <tr>\n",
       "      <th>2</th>\n",
       "      <td>2022/09/01 00:00</td>\n",
       "      <td>3209</td>\n",
       "      <td>8000F4670</td>\n",
       "      <td>3209</td>\n",
       "      <td>8000F4670</td>\n",
       "      <td>14675.57</td>\n",
       "      <td>US Dollar</td>\n",
       "      <td>14675.57</td>\n",
       "      <td>US Dollar</td>\n",
       "      <td>Reinvestment</td>\n",
       "      <td>0</td>\n",
       "      <td>National Bank of Fort Wayne</td>\n",
       "      <td>3209</td>\n",
       "      <td>800FBB3A0</td>\n",
       "      <td>Partnership #3</td>\n",
       "    </tr>\n",
       "    <tr>\n",
       "      <th>3</th>\n",
       "      <td>2022/09/01 00:02</td>\n",
       "      <td>12</td>\n",
       "      <td>8000F5030</td>\n",
       "      <td>12</td>\n",
       "      <td>8000F5030</td>\n",
       "      <td>2806.97</td>\n",
       "      <td>US Dollar</td>\n",
       "      <td>2806.97</td>\n",
       "      <td>US Dollar</td>\n",
       "      <td>Reinvestment</td>\n",
       "      <td>0</td>\n",
       "      <td>National Bank of the East</td>\n",
       "      <td>12</td>\n",
       "      <td>800C0EF20</td>\n",
       "      <td>Sole Proprietorship #1</td>\n",
       "    </tr>\n",
       "    <tr>\n",
       "      <th>4</th>\n",
       "      <td>2022/09/01 00:06</td>\n",
       "      <td>10</td>\n",
       "      <td>8000F5200</td>\n",
       "      <td>10</td>\n",
       "      <td>8000F5200</td>\n",
       "      <td>36682.97</td>\n",
       "      <td>US Dollar</td>\n",
       "      <td>36682.97</td>\n",
       "      <td>US Dollar</td>\n",
       "      <td>Reinvestment</td>\n",
       "      <td>0</td>\n",
       "      <td>National Bank of Laramie</td>\n",
       "      <td>10</td>\n",
       "      <td>800C3EC10</td>\n",
       "      <td>Partnership #4</td>\n",
       "    </tr>\n",
       "  </tbody>\n",
       "</table>\n",
       "</div>"
      ],
      "text/plain": [
       "          Timestamp  From Bank    Account  To Bank  Account.1  \\\n",
       "0  2022/09/01 00:20         10  8000EBD30       10  8000EBD30   \n",
       "1  2022/09/01 00:20       3208  8000F4580        1  8000F5340   \n",
       "2  2022/09/01 00:00       3209  8000F4670     3209  8000F4670   \n",
       "3  2022/09/01 00:02         12  8000F5030       12  8000F5030   \n",
       "4  2022/09/01 00:06         10  8000F5200       10  8000F5200   \n",
       "\n",
       "   Amount Received Receiving Currency  Amount Paid Payment Currency  \\\n",
       "0          3697.34          US Dollar      3697.34        US Dollar   \n",
       "1             0.01          US Dollar         0.01        US Dollar   \n",
       "2         14675.57          US Dollar     14675.57        US Dollar   \n",
       "3          2806.97          US Dollar      2806.97        US Dollar   \n",
       "4         36682.97          US Dollar     36682.97        US Dollar   \n",
       "\n",
       "  Payment Format  Is Laundering                    Bank Name  Bank ID  \\\n",
       "0   Reinvestment              0     National Bank of Laramie       10   \n",
       "1         Cheque              0       Sappo Cooperative Bank     3208   \n",
       "2   Reinvestment              0  National Bank of Fort Wayne     3209   \n",
       "3   Reinvestment              0    National Bank of the East       12   \n",
       "4   Reinvestment              0     National Bank of Laramie       10   \n",
       "\n",
       "   Entity ID             Entity Name  \n",
       "0  800D232D0          Partnership #1  \n",
       "1  8008EEA70          Partnership #2  \n",
       "2  800FBB3A0          Partnership #3  \n",
       "3  800C0EF20  Sole Proprietorship #1  \n",
       "4  800C3EC10          Partnership #4  "
      ]
     },
     "execution_count": 8,
     "metadata": {},
     "output_type": "execute_result"
    }
   ],
   "source": [
    "df_joined.head()"
   ]
  },
  {
   "cell_type": "code",
   "execution_count": 9,
   "id": "8e0395fe",
   "metadata": {
    "execution": {
     "iopub.execute_input": "2025-07-13T19:20:34.646237Z",
     "iopub.status.busy": "2025-07-13T19:20:34.645950Z",
     "iopub.status.idle": "2025-07-13T19:20:34.745963Z",
     "shell.execute_reply": "2025-07-13T19:20:34.744750Z"
    },
    "papermill": {
     "duration": 0.107398,
     "end_time": "2025-07-13T19:20:34.747601",
     "exception": false,
     "start_time": "2025-07-13T19:20:34.640203",
     "status": "completed"
    },
    "tags": []
   },
   "outputs": [
    {
     "name": "stdout",
     "output_type": "stream",
     "text": [
      "       From Bank  Jumlah\n",
      "0             70  449859\n",
      "1             10   81629\n",
      "2             12   79754\n",
      "3              1   62211\n",
      "4             15   52511\n",
      "...          ...     ...\n",
      "30465     351005       1\n",
      "30466     351022       1\n",
      "30467     349350       1\n",
      "30468     340466       1\n",
      "30469     336827       1\n",
      "\n",
      "[30470 rows x 2 columns]\n"
     ]
    }
   ],
   "source": [
    "from_bank_counts_df = df_joined['From Bank'].value_counts().reset_index()\n",
    "from_bank_counts_df.columns = ['From Bank', 'Jumlah']\n",
    "print(from_bank_counts_df)"
   ]
  },
  {
   "cell_type": "code",
   "execution_count": 10,
   "id": "239241f6",
   "metadata": {
    "execution": {
     "iopub.execute_input": "2025-07-13T19:20:34.759809Z",
     "iopub.status.busy": "2025-07-13T19:20:34.759437Z",
     "iopub.status.idle": "2025-07-13T19:20:35.514435Z",
     "shell.execute_reply": "2025-07-13T19:20:35.513011Z"
    },
    "papermill": {
     "duration": 0.762553,
     "end_time": "2025-07-13T19:20:35.516210",
     "exception": false,
     "start_time": "2025-07-13T19:20:34.753657",
     "status": "completed"
    },
    "tags": []
   },
   "outputs": [],
   "source": [
    "df_joined = df_joined.drop(columns=['Bank Name', 'Receiving Currency', 'Payment Currency'])\n",
    "top_5_banks = [70, 10, 12, 1, 15]\n",
    "\n",
    "df_70 = df_joined[df_joined['From Bank'] == 70]\n",
    "df_10 = df_joined[df_joined['From Bank'] == 10]\n",
    "df_12 = df_joined[df_joined['From Bank'] == 12]\n",
    "df_1  = df_joined[df_joined['From Bank'] == 1]\n",
    "df_15 = df_joined[df_joined['From Bank'] == 15]\n"
   ]
  },
  {
   "cell_type": "code",
   "execution_count": 11,
   "id": "2da657e8",
   "metadata": {
    "execution": {
     "iopub.execute_input": "2025-07-13T19:20:35.527339Z",
     "iopub.status.busy": "2025-07-13T19:20:35.527043Z",
     "iopub.status.idle": "2025-07-13T19:20:35.532889Z",
     "shell.execute_reply": "2025-07-13T19:20:35.532022Z"
    },
    "papermill": {
     "duration": 0.012868,
     "end_time": "2025-07-13T19:20:35.534266",
     "exception": false,
     "start_time": "2025-07-13T19:20:35.521398",
     "status": "completed"
    },
    "tags": []
   },
   "outputs": [
    {
     "data": {
      "text/plain": [
       "Index(['Timestamp', 'From Bank', 'Account', 'To Bank', 'Account.1',\n",
       "       'Amount Received', 'Amount Paid', 'Payment Format', 'Is Laundering',\n",
       "       'Bank ID', 'Entity ID', 'Entity Name'],\n",
       "      dtype='object')"
      ]
     },
     "execution_count": 11,
     "metadata": {},
     "output_type": "execute_result"
    }
   ],
   "source": [
    "df_15.columns"
   ]
  },
  {
   "cell_type": "code",
   "execution_count": 12,
   "id": "9168d7d6",
   "metadata": {
    "execution": {
     "iopub.execute_input": "2025-07-13T19:20:35.544624Z",
     "iopub.status.busy": "2025-07-13T19:20:35.544357Z",
     "iopub.status.idle": "2025-07-13T19:20:40.861057Z",
     "shell.execute_reply": "2025-07-13T19:20:40.860054Z"
    },
    "papermill": {
     "duration": 5.324185,
     "end_time": "2025-07-13T19:20:40.863129",
     "exception": false,
     "start_time": "2025-07-13T19:20:35.538944",
     "status": "completed"
    },
    "tags": []
   },
   "outputs": [],
   "source": [
    "df_70.to_csv('/kaggle/working/df_Oasis_Thrift.csv', index=True)\n",
    "df_10.to_csv('/kaggle/working/df_Laramie.csv', index=True)\n",
    "df_12.to_csv('/kaggle/working/df_East.csv', index=True)\n",
    "df_1.to_csv('/kaggle/working/df_Arbor_Savings.csv', index=True)\n",
    "df_15.to_csv('/kaggle/working/df_Japan.csv', index=True)"
   ]
  },
  {
   "cell_type": "code",
   "execution_count": 13,
   "id": "a00443a2",
   "metadata": {
    "execution": {
     "iopub.execute_input": "2025-07-13T19:20:40.882233Z",
     "iopub.status.busy": "2025-07-13T19:20:40.881808Z",
     "iopub.status.idle": "2025-07-13T19:20:42.218351Z",
     "shell.execute_reply": "2025-07-13T19:20:42.217504Z"
    },
    "papermill": {
     "duration": 1.347081,
     "end_time": "2025-07-13T19:20:42.219975",
     "exception": false,
     "start_time": "2025-07-13T19:20:40.872894",
     "status": "completed"
    },
    "tags": []
   },
   "outputs": [],
   "source": [
    "from sklearn.preprocessing import LabelEncoder\n",
    "from collections import defaultdict\n",
    "import pandas as pd\n",
    "import torch\n",
    "import dgl\n",
    "\n",
    "def preprocess_bank_graph(df_bank):\n",
    "    edge_dict = defaultdict(list)\n",
    "    edge_feats = defaultdict(dict)\n",
    "\n",
    "    # Konversi Timestamp ke datetime dan ke detik sejak awal\n",
    "    df_bank = df_bank.copy()  # untuk menghindari SettingWithCopyWarning\n",
    "    df_bank['Timestamp'] = pd.to_datetime(df_bank['Timestamp'])\n",
    "    df_bank['Timestamp_Seconds'] = (df_bank['Timestamp'] - df_bank['Timestamp'].min()).dt.total_seconds()\n",
    "\n",
    "    # Unique ID maps\n",
    "    account_ids = pd.Index(df_bank['Account'].tolist() + df_bank['Account.1'].tolist()).unique()\n",
    "    account_id_map = {k: i for i, k in enumerate(account_ids)}\n",
    "    bank_ids = pd.Index(df_bank['From Bank'].tolist()).unique()\n",
    "    bank_id_map = {k: i for i, k in enumerate(bank_ids)}\n",
    "    entity_ids = pd.Index(df_bank['Entity ID'].tolist()).unique()\n",
    "    entity_id_map = {k: i for i, k in enumerate(entity_ids)}\n",
    "\n",
    "    # Encode payment format\n",
    "    le_payment = LabelEncoder()\n",
    "    df_bank['Payment Format Enc'] = le_payment.fit_transform(df_bank['Payment Format'])\n",
    "\n",
    "    transfer_edge_feat = {\n",
    "        'amount': [],\n",
    "        'timestamp': [],\n",
    "        'payment_format': [],\n",
    "        'label': []\n",
    "    }\n",
    "\n",
    "    for idx, row in df_bank.iterrows():\n",
    "        src = account_id_map[row['Account']]\n",
    "        dst = account_id_map[row['Account.1']]\n",
    "        edge_dict[('account', 'transfers', 'account')].append((src, dst))\n",
    "\n",
    "        # Tambahkan fitur edge\n",
    "        transfer_edge_feat['amount'].append(row['Amount Paid'])\n",
    "        transfer_edge_feat['timestamp'].append(row['Timestamp_Seconds'])  # now numeric\n",
    "        transfer_edge_feat['payment_format'].append(row['Payment Format Enc'])\n",
    "        transfer_edge_feat['label'].append(row['Is Laundering'])\n",
    "\n",
    "        # Edge ke bank\n",
    "        edge_dict[('account', 'belongs_to', 'bank')].append((src, bank_id_map[row['From Bank']]))\n",
    "        # Edge ke entitas\n",
    "        edge_dict[('account', 'represents', 'entity')].append((src, entity_id_map[row['Entity ID']]))\n",
    "\n",
    "    # Build graph\n",
    "    graph_data = {}\n",
    "    for etype, edges in edge_dict.items():\n",
    "        srcs, dsts = zip(*edges)\n",
    "        graph_data[etype] = (torch.tensor(srcs), torch.tensor(dsts))\n",
    "\n",
    "    g = dgl.heterograph(graph_data)\n",
    "\n",
    "    # Tambahkan edge features untuk 'transfers' edge\n",
    "    g.edges['transfers'].data['amount'] = torch.tensor(transfer_edge_feat['amount'], dtype=torch.float32)\n",
    "    g.edges['transfers'].data['timestamp'] = torch.tensor(transfer_edge_feat['timestamp'], dtype=torch.float32)\n",
    "    g.edges['transfers'].data['payment_format'] = torch.tensor(transfer_edge_feat['payment_format'], dtype=torch.int64)\n",
    "    g.edges['transfers'].data['label'] = torch.tensor(transfer_edge_feat['label'], dtype=torch.float32)\n",
    "\n",
    "    # Simpan encoder dan id_map kalau mau digunakan lagi\n",
    "    g.account_id_map = account_id_map\n",
    "    g.bank_id_map = bank_id_map\n",
    "    g.entity_id_map = entity_id_map\n",
    "    g.label_encoder = le_payment\n",
    "\n",
    "    return g\n"
   ]
  },
  {
   "cell_type": "code",
   "execution_count": 14,
   "id": "2b122fff",
   "metadata": {
    "execution": {
     "iopub.execute_input": "2025-07-13T19:20:42.231045Z",
     "iopub.status.busy": "2025-07-13T19:20:42.230418Z",
     "iopub.status.idle": "2025-07-13T19:21:35.908692Z",
     "shell.execute_reply": "2025-07-13T19:21:35.907625Z"
    },
    "papermill": {
     "duration": 53.685802,
     "end_time": "2025-07-13T19:21:35.910542",
     "exception": false,
     "start_time": "2025-07-13T19:20:42.224740",
     "status": "completed"
    },
    "tags": []
   },
   "outputs": [],
   "source": [
    "bank_graphs = {\n",
    "    1: preprocess_bank_graph(df_1),\n",
    "    10: preprocess_bank_graph(df_10),\n",
    "    12: preprocess_bank_graph(df_12),\n",
    "    15: preprocess_bank_graph(df_15),\n",
    "    70: preprocess_bank_graph(df_70),\n",
    "}\n"
   ]
  },
  {
   "cell_type": "code",
   "execution_count": 15,
   "id": "112ee098",
   "metadata": {
    "execution": {
     "iopub.execute_input": "2025-07-13T19:21:35.921823Z",
     "iopub.status.busy": "2025-07-13T19:21:35.921488Z",
     "iopub.status.idle": "2025-07-13T19:21:35.981348Z",
     "shell.execute_reply": "2025-07-13T19:21:35.980234Z"
    },
    "papermill": {
     "duration": 0.067276,
     "end_time": "2025-07-13T19:21:35.983007",
     "exception": false,
     "start_time": "2025-07-13T19:21:35.915731",
     "status": "completed"
    },
    "tags": []
   },
   "outputs": [
    {
     "name": "stdout",
     "output_type": "stream",
     "text": [
      "Saved graph for bank 1 to /kaggle/working/graph_bank_1.bin\n",
      "Saved graph for bank 10 to /kaggle/working/graph_bank_10.bin\n",
      "Saved graph for bank 12 to /kaggle/working/graph_bank_12.bin\n",
      "Saved graph for bank 15 to /kaggle/working/graph_bank_15.bin\n",
      "Saved graph for bank 70 to /kaggle/working/graph_bank_70.bin\n"
     ]
    }
   ],
   "source": [
    "for bank_id, graph in bank_graphs.items():\n",
    "    save_path = f\"/kaggle/working/graph_bank_{bank_id}.bin\"\n",
    "    dgl.save_graphs(save_path, [graph])\n",
    "    print(f\"Saved graph for bank {bank_id} to {save_path}\")"
   ]
  },
  {
   "cell_type": "code",
   "execution_count": 16,
   "id": "6bab76fc",
   "metadata": {
    "execution": {
     "iopub.execute_input": "2025-07-13T19:21:35.994509Z",
     "iopub.status.busy": "2025-07-13T19:21:35.994170Z",
     "iopub.status.idle": "2025-07-13T19:21:35.999117Z",
     "shell.execute_reply": "2025-07-13T19:21:35.997846Z"
    },
    "papermill": {
     "duration": 0.012366,
     "end_time": "2025-07-13T19:21:36.000696",
     "exception": false,
     "start_time": "2025-07-13T19:21:35.988330",
     "status": "completed"
    },
    "tags": []
   },
   "outputs": [],
   "source": [
    "# loaded_graphs = {}\n",
    "# for bank_id in [1, 10, 12, 15, 70]:\n",
    "#     g, _ = dgl.load_graphs(f\"/kaggle/working/graph_bank_{bank_id}.bin\")\n",
    "#     loaded_graphs[bank_id] = g[0]\n"
   ]
  }
 ],
 "metadata": {
  "kaggle": {
   "accelerator": "none",
   "dataSources": [
    {
     "datasetId": 2948142,
     "sourceId": 12411329,
     "sourceType": "datasetVersion"
    }
   ],
   "dockerImageVersionId": 31089,
   "isGpuEnabled": false,
   "isInternetEnabled": true,
   "language": "python",
   "sourceType": "notebook"
  },
  "kernelspec": {
   "display_name": "Python 3",
   "language": "python",
   "name": "python3"
  },
  "language_info": {
   "codemirror_mode": {
    "name": "ipython",
    "version": 3
   },
   "file_extension": ".py",
   "mimetype": "text/x-python",
   "name": "python",
   "nbconvert_exporter": "python",
   "pygments_lexer": "ipython3",
   "version": "3.11.13"
  },
  "papermill": {
   "default_parameters": {},
   "duration": 112.223821,
   "end_time": "2025-07-13T19:21:38.624604",
   "environment_variables": {},
   "exception": null,
   "input_path": "__notebook__.ipynb",
   "output_path": "__notebook__.ipynb",
   "parameters": {},
   "start_time": "2025-07-13T19:19:46.400783",
   "version": "2.6.0"
  }
 },
 "nbformat": 4,
 "nbformat_minor": 5
}
